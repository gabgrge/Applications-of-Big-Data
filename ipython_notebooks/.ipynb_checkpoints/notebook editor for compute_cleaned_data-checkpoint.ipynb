{
  "nbformat": 4,
  "nbformat_minor": 0,
  "metadata": {
    "kernelspec": {
      "display_name": "Python 3",
      "language": "python",
      "name": "python3"
    },
    "associatedRecipe": "compute_cleaned_data",
    "creator": "admin",
    "createdOn": 1700568951052,
    "tags": [
      "recipe-editor"
    ],
    "customFields": {}
  },
  "cells": [
    {
      "cell_type": "code",
      "metadata": {},
      "outputs": [],
      "execution_count": 0,
      "source": [
        "# -*- coding: utf-8 -*-\n",
        "import dataiku\n",
        "import pandas as pd, numpy as np\n",
        "from dataiku import pandasutils as pdu\n",
        "\n",
        "\n",
        "# Read recipe inputs\n",
        "extracted_data \u003d dataiku.Dataset(\"extracted_data\")\n",
        "extracted_data_df \u003d extracted_data.get_dataframe()\n",
        "\n",
        "\n",
        "# Compute recipe outputs from inputs\n",
        "\n",
        "\n",
        "\n",
        "\n",
        "# Write recipe outputs\n",
        "cleaned_data \u003d dataiku.Dataset(\"cleaned_data\")\n",
        "cleaned_data.write_with_schema(cleaned_data_df)"
      ]
    }
  ]
}