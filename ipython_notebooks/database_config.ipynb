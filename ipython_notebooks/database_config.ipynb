{
  "metadata": {
    "kernelspec": {
      "name": "py-dku-venv-python3-7",
      "display_name": "Python (env python3-7)",
      "language": "python"
    },
    "hide_input": false,
    "language_info": {
      "name": "python",
      "version": "3.7.13",
      "mimetype": "text/x-python",
      "codemirror_mode": {
        "name": "ipython",
        "version": 3
      },
      "pygments_lexer": "ipython3",
      "nbconvert_exporter": "python",
      "file_extension": ".py"
    },
    "createdOn": 1701256602564,
    "creator": "admin",
    "tags": [],
    "customFields": {},
    "modifiedBy": "admin"
  },
  "nbformat": 4,
  "nbformat_minor": 1,
  "cells": [
    {
      "execution_count": 0,
      "cell_type": "code",
      "metadata": {},
      "source": [
        "import dataiku\nfrom dataiku import pandasutils as pdu\nimport pandas as pd"
      ],
      "outputs": []
    },
    {
      "execution_count": 0,
      "cell_type": "code",
      "metadata": {},
      "source": [
        "# Read \"cleaned_data\" DataFrame\ncleaned_data \u003d dataiku.Dataset(\"cleaned_data\")\nlistenings_df \u003d cleaned_data.get_dataframe()\n\n# Compute \"datetime\" DataFrame\ndatetime_df \u003d listenings_df[[\"datetime\"]].drop_duplicates().sort_values(ignore_index\u003dTrue, by\u003d\"datetime\", ascending\u003dFalse)\ndatetime_df[\"date\"] \u003d datetime_df[\"datetime\"].dt.date\ndatetime_df[\"time\"] \u003d datetime_df[\"datetime\"].dt.time\ndatetime_df[\"year\"] \u003d datetime_df[\"datetime\"].dt.year\ndatetime_df[\"month\"] \u003d datetime_df[\"datetime\"].dt.month\ndatetime_df[\"week\"] \u003d datetime_df[\"datetime\"].dt.week\ndatetime_df[\"day\"] \u003d datetime_df[\"datetime\"].dt.day"
      ],
      "outputs": []
    },
    {
      "execution_count": 0,
      "cell_type": "code",
      "metadata": {},
      "source": [
        "# Connect to PostgreSQL database\nwith engine.connect() as conn:\n    # Create \"listenings\" table\n    conn.execute(text())\n    \n    # Create \"datetime\" table\n    conn.execute(text(\"\"\"\n        CREATE TABLE IF NOT EXISTS datetime (\n            datetime TIMESTAMP WITH TIME ZONE PRIMARY KEY,\n            date TEXT,\n            time TEXT,\n            year INTEGER,\n            month INTEGER,\n            week INTEGER,\n            day INTEGER\n        )\n    \"\"\"))"
      ],
      "outputs": []
    },
    {
      "execution_count": 0,
      "cell_type": "code",
      "metadata": {},
      "source": [
        "# Delete database tables (if necessary)\nwith engine.connect() as conn:\n    conn.execute(text(\"\"\"\n    DROP TABLE listenings\n    \"\"\"))"
      ],
      "outputs": []
    }
  ]
}