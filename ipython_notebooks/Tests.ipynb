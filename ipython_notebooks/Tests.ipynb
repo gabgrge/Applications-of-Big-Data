{
  "metadata": {
    "kernelspec": {
      "name": "python3",
      "display_name": "Python 3",
      "language": "python"
    },
    "hide_input": false,
    "language_info": {
      "name": "python",
      "version": "3.7.13",
      "mimetype": "text/x-python",
      "codemirror_mode": {
        "name": "ipython",
        "version": 3
      },
      "pygments_lexer": "ipython3",
      "nbconvert_exporter": "python",
      "file_extension": ".py"
    },
    "creator": "admin",
    "customFields": {},
    "tags": [],
    "createdOn": 1700560282256,
    "modifiedBy": "admin"
  },
  "nbformat": 4,
  "nbformat_minor": 1,
  "cells": [
    {
      "execution_count": 0,
      "cell_type": "code",
      "metadata": {},
      "source": [
        "%pylab inline"
      ],
      "outputs": []
    },
    {
      "execution_count": 0,
      "cell_type": "code",
      "metadata": {},
      "source": [
        "import dataiku\nfrom dataiku import pandasutils as pdu\nimport pandas as pd\nimport os"
      ],
      "outputs": []
    },
    {
      "execution_count": 0,
      "cell_type": "code",
      "metadata": {},
      "source": [
        "folder_name \u003d \"raw_data\"\nfolder \u003d dataiku.Folder(folder_name)\nfolder_path \u003d folder.get_path()\nfiles \u003d folder.list_paths_in_partition()"
      ],
      "outputs": []
    },
    {
      "execution_count": 0,
      "cell_type": "code",
      "metadata": {},
      "source": [
        "dfs \u003d pd.DataFrame()\n\n# Cycle through folders paths\nfor file in files:\n    print(f\"\\nExtraction of \u0027{file}\u0027\")\n    # Get file path\n    path \u003d os.path.join(folder_path, file[1:])\n    \n    try:\n        # Read user listening history\n        df \u003d pd.read_csv(path, header\u003dNone, names\u003d[\"artist\", \"album\", \"track\", \"time\"])\n        \n        # Get user name\n        username \u003d file[1:].split(\".\")[0]\n        df[\"user\"] \u003d username\n        \n        # Concatenate listening histories\n        dfs \u003d pd.concat([dfs, df])\n\n    except Exception as e:\n        print(e)"
      ],
      "outputs": []
    },
    {
      "execution_count": 0,
      "cell_type": "code",
      "metadata": {},
      "source": [
        ""
      ],
      "outputs": []
    }
  ]
}