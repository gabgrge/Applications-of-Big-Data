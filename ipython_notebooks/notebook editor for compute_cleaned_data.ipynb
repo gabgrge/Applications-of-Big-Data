{
  "metadata": {
    "kernelspec": {
      "name": "python3",
      "display_name": "Python 3",
      "language": "python"
    },
    "hide_input": false,
    "language_info": {
      "name": "python",
      "version": "3.7.13",
      "mimetype": "text/x-python",
      "codemirror_mode": {
        "name": "ipython",
        "version": 3
      },
      "pygments_lexer": "ipython3",
      "nbconvert_exporter": "python",
      "file_extension": ".py"
    },
    "creator": "admin",
    "customFields": {},
    "associatedRecipe": "compute_cleaned_data",
    "tags": [
      "recipe-editor"
    ],
    "createdOn": 1700568951052,
    "modifiedBy": "admin"
  },
  "nbformat": 4,
  "nbformat_minor": 1,
  "cells": [
    {
      "execution_count": 0,
      "cell_type": "code",
      "metadata": {},
      "source": [
        "# -*- coding: utf-8 -*-\nimport dataiku\nimport pandas as pd, numpy as np\nfrom dataiku import pandasutils as pdu"
      ],
      "outputs": []
    },
    {
      "cell_type": "markdown",
      "metadata": {},
      "source": [
        "# Read recipe inputs"
      ]
    },
    {
      "execution_count": 0,
      "cell_type": "code",
      "metadata": {},
      "source": [
        "extracted_data \u003d dataiku.Dataset(\"extracted_data\")\nextracted_data_df \u003d extracted_data.get_dataframe()"
      ],
      "outputs": []
    },
    {
      "cell_type": "markdown",
      "metadata": {},
      "source": [
        "# Compute recipe outputs from inputs"
      ]
    },
    {
      "cell_type": "markdown",
      "metadata": {},
      "source": [
        "## Normalize \"datetime\""
      ]
    },
    {
      "execution_count": 0,
      "cell_type": "code",
      "metadata": {},
      "source": [
        "extracted_data_df[\"datetime\"] \u003d pd.to_datetime(extracted_data_df[\"datetime\"], format\u003d\"%d %b %Y %H:%M\")"
      ],
      "outputs": []
    },
    {
      "execution_count": 0,
      "cell_type": "code",
      "metadata": {},
      "source": [
        "extracted_data_df[\"date\"] \u003d extracted_data_df[\"datetime\"].dt.date\nextracted_data_df[\"time\"] \u003d extracted_data_df[\"datetime\"].dt.time\nextracted_data_df[\"year\"] \u003d extracted_data_df[\"datetime\"].dt.year\nextracted_data_df[\"month\"] \u003d extracted_data_df[\"datetime\"].dt.month\nextracted_data_df[\"day\"] \u003d extracted_data_df[\"datetime\"].dt.day"
      ],
      "outputs": []
    },
    {
      "cell_type": "markdown",
      "metadata": {},
      "source": [
        "## Clean \"datetime\""
      ]
    },
    {
      "execution_count": 0,
      "cell_type": "code",
      "metadata": {},
      "source": [
        "# Delete datetimes when the date is \"1970-01-01\"\nmask \u003d extracted_data_df[\"date\"] \u003d\u003d pd.to_datetime(\"1970-01-01\").date()\ncols_to_reset \u003d [\"datetime\", \"date\", \"time\", \"year\", \"month\", \"day\"]\nextracted_data_df.loc[mask, cols_to_reset] \u003d np.nan"
      ],
      "outputs": []
    },
    {
      "execution_count": 0,
      "cell_type": "code",
      "metadata": {},
      "source": [
        "count \u003d extracted_data_df[\"date\"].value_counts()"
      ],
      "outputs": []
    },
    {
      "cell_type": "markdown",
      "metadata": {},
      "source": [
        "## Clean \"artist\""
      ]
    },
    {
      "execution_count": 0,
      "cell_type": "code",
      "metadata": {},
      "source": [
        "extracted_data_df.artist.value_counts().head(100)"
      ],
      "outputs": []
    },
    {
      "cell_type": "markdown",
      "metadata": {},
      "source": [
        "# Write recipe outputs"
      ]
    },
    {
      "execution_count": 0,
      "cell_type": "code",
      "metadata": {},
      "source": [
        "cleaned_data \u003d dataiku.Dataset(\"cleaned_data\")\ncleaned_data.write_with_schema(cleaned_data_df)"
      ],
      "outputs": []
    }
  ]
}